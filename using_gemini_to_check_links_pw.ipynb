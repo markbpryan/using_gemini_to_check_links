{
 "cells": [
  {
   "cell_type": "markdown",
   "metadata": {
    "id": "PQeaDGvD7WqP"
   },
   "source": [
    "# Using Gemini to validate documenation topics PLAYWRIGHT VERSION\n",
    "\n",
    "Copyright 2025 Google LLC.\n",
    "SPDX-License-Identifier: Apache-2.0\n",
    "\n",
    "This notebook iterates through a list of documentation topics and uses Gemini to check the semantic validity of links in the documenation topics. For each link in a topic, the notebook uses [Playwright](https://playwright.dev/) to navigate to the destination of the link, takes a screenshot of the destination, and then uses Gemini to evaluate whether the destination of the link matches the link text at the source and whether there is an error at the destination.\n",
    "\n",
    "Specifically, this notebook:\n",
    "\n",
    "* Ingests the [CSV containing URLs for doc topics](https://raw.githubusercontent.com/markbpryan/using_gemini_to_validate_doc_topics/main/input_urls.csv) into a dataframe\n",
    "* Launches Playwright\n",
    "* Launches Gemini 2.5 Gen AI client using [Google GenerativeAI APIs](https://ai.google.dev/api/python/google/generativeai)\n",
    "* Iterates through the doc URLs. For each doc URL:\n",
    "    * Get the HTML for doc topic at the URL\n",
    "    * Iterate through the list of links for the URL and for each link in the HTML, get the `href` value, and the link text.\n",
    "    * For each link, use Playwright to navigate to the destination of the link and save a screencap of the destination.\n",
    "    * Use Gemini again to compare the link text with the screencap for that link's destination to assess if the link text matches the text in the link destination and whether there is some kind of error at the destination.\n",
    "\n",
    "* The results of this validation are displayed in a table where you can click to get further details.\n",
    "\n",
    "\n",
    "\n",
    "![Overview](https://raw.githubusercontent.com/markbpryan/using_gemini_to_check_links/refs/heads/main/notebook_diagram.png)\n",
    "  \n"
   ]
  },
  {
   "cell_type": "markdown",
   "metadata": {
    "id": "obWkZgNWq5v5"
   },
   "source": [
    "\n",
    "\n",
    "<table align=\"left\">\n",
    "  <td style=\"text-align: center\">\n",
    "    <a href=\"https://colab.research.google.com/github/markbpryan/using_gemini_to_check_links/blob/main/using_gemini_to_check_links_pw.ipynb\">\n",
    "      <img src=\"https://cloud.google.com/ml-engine/images/colab-logo-32px.png\" alt=\"Google Colaboratory logo\"><br> Open in Colab\n",
    "    </a>\n",
    "  </td>\n",
    "  <td style=\"text-align: center\">\n",
    "    <a href=\"https://github.com/markbpryan/using_gemini_to_check_links/blob/main/using_gemini_to_check_links.ipynb\">\n",
    "      <img src=\"https://cloud.google.com/ml-engine/images/github-logo-32px.png\" alt=\"GitHub logo\"><br> View on GitHub\n",
    "    </a>\n",
    "  </td>\n",
    "</table>"
   ]
  },
  {
   "cell_type": "markdown",
   "metadata": {
    "id": "HtTrQviW9uYu"
   },
   "source": [
    "## Set up libraries and imports"
   ]
  },
  {
   "cell_type": "code",
   "execution_count": null,
   "metadata": {
    "id": "TRft90qd5rm_"
   },
   "outputs": [],
   "source": [
    "!pip install pytest-playwright\n",
    "!playwright install"
   ]
  },
  {
   "cell_type": "code",
   "execution_count": null,
   "metadata": {
    "id": "5R56eFCm6lyB"
   },
   "outputs": [],
   "source": [
    "from enum import Enum\n",
    "import getpass\n",
    "import pathlib\n",
    "import tempfile\n",
    "import time\n",
    "import json\n",
    "from urllib.parse import urlparse\n",
    "import pandas as pd\n",
    "import posixpath\n",
    "import os\n",
    "import logging\n",
    "import yaml\n",
    "import re\n",
    "import requests\n",
    "import logging\n",
    "\n",
    "\n",
    "import base64\n",
    "import ipywidgets as widgets\n",
    "\n",
    "\n",
    "import bs4\n",
    "from IPython import display\n",
    "import PIL.Image\n",
    "from PIL import Image as PImage\n",
    "import asyncio\n",
    "import playwright\n",
    "from playwright import async_api, sync_api\n",
    "from playwright.sync_api import sync_playwright\n",
    "from playwright.async_api import async_playwright\n",
    "\n",
    "import google.generativeai as genai\n",
    "from google.generativeai.types import safety_types\n",
    "from google.colab import files\n",
    "\n",
    "\n",
    "\n",
    "\n",
    "\n",
    "\n"
   ]
  },
  {
   "cell_type": "markdown",
   "metadata": {
    "id": "6EUPZEYI3fiR"
   },
   "source": [
    "# Set parameters\n",
    "\n",
    "Set values of variables used to control operation of the notebook.\n",
    "\n"
   ]
  },
  {
   "cell_type": "code",
   "execution_count": null,
   "metadata": {
    "id": "hoGzhbOVnfEm"
   },
   "outputs": [],
   "source": [
    "\n",
    "\n",
    "\n",
    "# switch to control whether exception handling allows execution to continue (False)\n",
    "# or messages for errors are shown and exceptions end execution\n",
    "show_exceptions = True\n",
    "# start time for execution\n",
    "initial_timestamp = time.time()\n",
    "# path for output\n",
    "display_screencaps = False\n",
    "# text to search for in screencaps that indicates broken link to console\n",
    "message_text_list = [\"error message\", \"model is not found\"]\n",
    "message_text = \"Error message\"\n",
    "# expected prefix for console links\n",
    "link_prefix = \"https://cloud.google.com\"\n",
    "# scroll down for screen caps to avoid including boilerplate at the top of the screen\n",
    "vertical_offset = 50\n",
    "# dimensions for screen caps\n",
    "window_width = 1380  # @param {type: \"number\"} was 1080\n",
    "window_height = 720  # @param {type: \"number\"}\n",
    "# space out prediction calls\n",
    "predictions_space_out = 1 # seconds\n",
    "page_load_timeout = 60 # originally 60\n",
    "# placeholder record for topics where collection of console link details fails\n",
    "placeholder_dict_list = [{'console_link': 'https://console.cloud.google.com/vertex-ai/model-garden', 'console_link_text': 'PLACEHOLDER',  'image_title': 'PLACEHOLDER', 'title_match': 'YES'}]\n",
    "placeholder_console_link = 'https://console.cloud.google.com/vertex-ai/model-garden'\n",
    "placeholder_console_link_text = 'PLACEHOLDER'\n",
    "placeholder_image_title = 'PLACEHOLDER'\n",
    "placeholder_title_match = 'YES'\n",
    "placeholder_string = '{\"console_link\": \"https://console.cloud.google.com/vertex-ai/model-garden\", \"console_link_text\": \"PLACEHOLDER\",  \"image_title\": \"PLACEHOLDER\", \"title_match\": \"YES\"}]'\n",
    "placeholder_dict = {\"console_link\": \"https://console.cloud.google.com/vertex-ai/model-garden\", \"console_link_text\": \"PLACEHOLDER\", \"image_title\": \"PLACEHOLDER\", \"title_match\": \"YES\"}\n",
    "placeholder_html = \"\"\"<article class=\"devsite-article\">\n",
    "<div background=\"google-blue\" class=\"devsite-banner devsite-banner-announcement nocontent\">\n",
    "<div class=\"devsite-banner-message\">\n",
    "<div class=\"devsite-banner-message-text\">\n",
    "<cloudx-free-trial-eligible-content>\n",
    "<li>In the Google Cloud console, go to the <b>Vertex AI Studio</b> page.\n",
    "    <p><a class=\"button button-primary\" href=\"https://console.cloud.google.com/vertex-ai/generative/language\" target=\"console\" track-name=\"consoleLink\" track-type=\"task\">Go to\n",
    "    PLACEHOLDER</a></p></li>\n",
    "</article>\n",
    "\"\"\"\n",
    "sandbox_string = \"sandbox\"\n",
    "ask_api_key = True\n",
    "test_dataset_url = \"https://raw.githubusercontent.com/markbpryan/using_gemini_to_check_links/refs/heads/main/input_urls.csv\""
   ]
  },
  {
   "cell_type": "code",
   "execution_count": null,
   "metadata": {
    "id": "9KxGTEAaxy2n"
   },
   "outputs": [],
   "source": [
    "timestamp = time.time()\n",
    "log_filename = str(timestamp)+'.log'\n",
    "logger = logging.getLogger(__name__)\n",
    "logging.basicConfig(filename=log_filename, encoding='utf-8', level=logging.DEBUG)"
   ]
  },
  {
   "cell_type": "markdown",
   "metadata": {
    "id": "3294ErTMA_0n"
   },
   "source": [
    "# Ingest CSV file\n",
    "\n",
    "Read CSV file containing URLs whose links will be validated into a Pandas dataframe"
   ]
  },
  {
   "cell_type": "code",
   "execution_count": null,
   "metadata": {
    "id": "3P6J17aXEJHN"
   },
   "outputs": [],
   "source": [
    "\n",
    "\n",
    "df = pd.read_csv(test_dataset_url)\n",
    "# add placeholder result column\n",
    "df[\"result\"]=''\n",
    "print(df.head(5))"
   ]
  },
  {
   "cell_type": "code",
   "execution_count": null,
   "metadata": {
    "id": "XYCaasf6Gabl"
   },
   "outputs": [],
   "source": [
    "df.head()"
   ]
  },
  {
   "cell_type": "markdown",
   "metadata": {
    "id": "NWG0gexKueD8"
   },
   "source": [
    "# Set up sandbox directory\n",
    "\n",
    "Set up local directory to save screenshots.\n"
   ]
  },
  {
   "cell_type": "code",
   "execution_count": null,
   "metadata": {
    "id": "YgJmCew4_VNL"
   },
   "outputs": [],
   "source": [
    "def setup_sandbox_directory():\n",
    "\n",
    "  cwd = os.getcwd()\n",
    "  # ensure that sandbox directory has not already been set up\n",
    "  if sandbox_string not in cwd:\n",
    "    path = os.path.join(cwd,sandbox_string+\"_\"+str(timestamp))\n",
    "    if not os.path.exists(path):\n",
    "      os.makedirs(path)\n",
    "  else:\n",
    "    path = cwd\n",
    "  return path\n"
   ]
  },
  {
   "cell_type": "code",
   "execution_count": null,
   "metadata": {
    "id": "skwK71fNCwPQ"
   },
   "outputs": [],
   "source": [
    "sandbox_path = setup_sandbox_directory()\n",
    "logger.debug(\"sandbox_path: \",sandbox_path)"
   ]
  },
  {
   "cell_type": "markdown",
   "metadata": {
    "id": "iQg6eQqi9zG1"
   },
   "source": [
    "## Launch Playwright\n",
    "\n",
    "Set parameters and start [Playwright](https://playwright.dev/) client. We will use Playwright to navigate to the destinations of links in the input topics so we can get screenshots of the link destinations."
   ]
  },
  {
   "cell_type": "code",
   "execution_count": null,
   "metadata": {
    "id": "f8fg_fetoyY_"
   },
   "outputs": [],
   "source": [
    "class Agent:\n",
    "    def __init__(\n",
    "      self,\n",
    "      page: async_api.Page,\n",
    "    ):\n",
    "        self.page = page\n",
    "\n",
    "    async def goto(self, url: str) -> None:\n",
    "        await self.page.goto(url)\n",
    "\n",
    "    async def get_title(self) -> str:\n",
    "        return await self.page.title()"
   ]
  },
  {
   "cell_type": "markdown",
   "metadata": {
    "id": "cd8jN0_65sKs"
   },
   "source": [
    "# WebAgent Definition\n",
    "\n",
    "Used to capture screenshots for link destinations.\n"
   ]
  },
  {
   "cell_type": "code",
   "execution_count": null,
   "metadata": {
    "id": "J7urj2SsifCK"
   },
   "outputs": [],
   "source": [
    "\n",
    "class WebAgent:\n",
    "\n",
    "#\n",
    "    def __init__(\n",
    "      self,\n",
    "      out_dir: pathlib.Path,\n",
    "      window_height: int,\n",
    "      window_width: int,\n",
    "    ):\n",
    "        self.out_dir = out_dir\n",
    "        self.action_idx = 0\n",
    "        self.window_height = window_height\n",
    "        self.window_width = window_width\n",
    "\n",
    "\n",
    "# wd\n",
    "    def _set_screenshot(self) -> None:\n",
    "        # Wait for page to load before capturing screenshot.\n",
    "        time.sleep(predictions_space_out)\n",
    "        timestamp_ms = int(time.time() * 1000)\n",
    "        screenshot_filename = f'{timestamp_ms}_screenshot.png'\n",
    "        screenshot_path = os.path.join(self.out_dir, screenshot_filename)\n",
    "        self.filename = screenshot_path\n",
    "\n",
    "\n",
    "\n",
    "#\n",
    "    async def get(self, url: str) -> None:\n",
    "        async with async_api.async_playwright() as p:\n",
    "            browser = await p.chromium.launch(headless=True)\n",
    "            try:\n",
    "                context = await browser.new_context(\n",
    "                    viewport={'width': self.window_width, 'height': self.window_height}\n",
    "                )\n",
    "                page = await context.new_page()\n",
    "                agent = Agent(page=page)\n",
    "                await page.goto(url)\n",
    "                # add sleep to allow page to load completely\n",
    "                time.sleep(predictions_space_out)\n",
    "                # set filenames\n",
    "                self._set_screenshot()\n",
    "                await page.screenshot(path=self.filename)\n",
    "                image = display.Image(filename=self.filename)\n",
    "                # crop the screencaps to omit boilerplate\n",
    "                cropping_box = (0, vertical_offset, self.window_width, self.window_height)\n",
    "                self.image1 = PImage.open(self.filename).crop(cropping_box).convert('RGB')\n",
    "                #gfile.Copy(self.filename, self.cns_filename)\n",
    "            except Exception as e:\n",
    "                print(e)\n",
    "            finally:\n",
    "                await browser.close()\n",
    "\n",
    "# Initialize agent.\n",
    "#agent = WebAgent(driver=driver, out_dir=sandbox_path)\n",
    "agent = WebAgent(out_dir=sandbox_path,window_height=window_height, window_width=window_width)\n",
    "\n",
    "display.display('Agent is now initialized.')"
   ]
  },
  {
   "cell_type": "markdown",
   "metadata": {
    "id": "nO3nho0O_MyB"
   },
   "source": [
    "## Initialize GenAI client\n",
    "\n",
    "This notebook uses the [Google GenerativeAI APIs](https://ai.google.dev/api/python/google/generativeai).\n",
    "\n",
    "You can create an API key here: https://aistudio.google.com/app/apikey.\n",
    "\n",
    "For this demo, we will use the Gemini Flash 2.5."
   ]
  },
  {
   "cell_type": "code",
   "execution_count": null,
   "metadata": {
    "id": "UwerCeYt9cmD"
   },
   "outputs": [],
   "source": [
    "# set parameters\n",
    "temperature = 0.2  # @param {type:\"slider\", min:0, max:1, step:0.1}\n",
    "response_mime_type = 'application/json'\n",
    "max_output_tokens = 8192  # @param {type: \"number\"}\n",
    "model_name = 'gemini-2.5-flash'  # @param {type: \"string\"}\n",
    "api_key = ''  # @param {type: \"string\"}\n",
    "\n",
    "while api_key == '' or api_key is None:\n",
    "  api_key = getpass.getpass('Enter your API key:')\n",
    "\n",
    "\n",
    "\n",
    "class GenAiClient:\n",
    "\n",
    "  def __init__(self, model_name: str, api_key: str):\n",
    "    genai.configure(api_key=api_key)\n",
    "    self.generation_config = genai.types.GenerationConfig(\n",
    "        temperature=temperature,\n",
    "        response_mime_type=response_mime_type,\n",
    "        max_output_tokens=max_output_tokens,\n",
    "    )\n",
    "\n",
    "    self.model = genai.GenerativeModel(\n",
    "        model_name=model_name,\n",
    "    )\n",
    "    self.chat = self.model.start_chat(history=[])\n",
    "\n",
    "\n",
    "\n",
    "  def predict_visual(self, prompt: str, img: PIL.Image) -> str:\n",
    "    response = self.model.generate_content([prompt, img])\n",
    "    return response.text\n",
    "\n",
    "\n",
    "\n",
    "  def predict(self, prompt: str) -> str:\n",
    "    response = self.chat.send_message(\n",
    "        content=prompt, generation_config=self.generation_config\n",
    "    )\n",
    "    return response.text\n",
    "\n",
    "\n",
    "try:\n",
    "  genai_client = GenAiClient(model_name=model_name, api_key=api_key)\n",
    "  genai_client.predict('Hi Gemini!!! :D')\n",
    "except Exception as e:\n",
    "  if show_exceptions:\n",
    "    raise\n",
    "  else:\n",
    "    logger.debug(\"ERROR is \",e)\n"
   ]
  },
  {
   "cell_type": "markdown",
   "metadata": {
    "id": "XL3PbqCsx9Mt"
   },
   "source": [
    "# Getting Content from a URL\n",
    "\n",
    "To form a prompt for Gemini prompt that includes the key text from the topice, we need to get the required text from the topic. This function takes a doc topic URL as input and returns an object containing the HTML of the rendered topic."
   ]
  },
  {
   "cell_type": "code",
   "execution_count": null,
   "metadata": {
    "id": "l7OsVaQ6JnBU"
   },
   "outputs": [],
   "source": [
    "# function to get HTML content of a topic\n",
    "def get_html_content(input_url: str) -> str:\n",
    "  target_url = 'https://'+input_url # @param {type: \"string\"}\n",
    "  response = requests.get(target_url)\n",
    "  soup = bs4.BeautifulSoup(response.text, 'html.parser')\n",
    "  devsite_article = soup.findAll(class_='devsite-article')[0]\n",
    "  return devsite_article\n",
    "\n"
   ]
  },
  {
   "cell_type": "markdown",
   "metadata": {
    "id": "g_WIW0hfkEZD"
   },
   "source": [
    "## String Cleanup Functions\n",
    "\n",
    "The model returns strings that need cleanup to prepare them to be converted into Python structures: dicts and lists. These functions perform the required cleanup."
   ]
  },
  {
   "cell_type": "code",
   "execution_count": null,
   "metadata": {
    "id": "lBSyBO3bgvx4"
   },
   "outputs": [],
   "source": [
    "# function to remove flotsam prior to the first \"{\" to facilitate conversion of string to Python dictionary\n",
    "def remove_prefix(text, prefix):\n",
    "  if text.startswith(prefix):\n",
    "    return text\n",
    "  else:\n",
    "    if prefix in text:\n",
    "      return text[text.index(prefix):]\n",
    "    else:\n",
    "      return placeholder_string\n",
    "\n"
   ]
  },
  {
   "cell_type": "code",
   "execution_count": null,
   "metadata": {
    "id": "xDf3qD9hiaXK"
   },
   "outputs": [],
   "source": [
    "# function to remove flotsam after the last \"}\" to facilitate conversion of string to Python dictionary\n",
    "def remove_suffix(text, suffix):\n",
    "  if text.endswith(suffix):\n",
    "    return text\n",
    "  else:\n",
    "    if suffix in text:\n",
    "      return text[:(text.rindex(suffix)+1)]\n",
    "    else:\n",
    "      return remove_suffix(text,\"}\")+suffix\n"
   ]
  },
  {
   "cell_type": "code",
   "execution_count": null,
   "metadata": {
    "id": "vF_YSujhjaW6"
   },
   "outputs": [],
   "source": [
    "# prep string returned by model to be run through json_load\n",
    "def prep_json_load(input_text):\n",
    "  output_text = remove_prefix(input_text, \"{\")\n",
    "  output_text = remove_suffix(output_text, \"]\")\n",
    "  output_text = output_text.replace(\"\\\\n\",\"\").replace(\"\\n\",\"\").replace(\"    \",\" \").replace(\"   \",\" \")\n",
    "  output_text = \"[\" + output_text\n",
    "  return output_text"
   ]
  },
  {
   "cell_type": "code",
   "execution_count": null,
   "metadata": {
    "id": "S-hlacZznBs2"
   },
   "outputs": [],
   "source": [
    "def replace_null(text):\n",
    "  # to avoid double quotes, remove quotes surrounding nulls\n",
    "  new_text = text.replace('\"null\"',\"null\")\n",
    "  return new_text.replace(\"null\",'\"null\"')"
   ]
  },
  {
   "cell_type": "markdown",
   "metadata": {
    "id": "d_WyY969tbb5"
   },
   "source": [
    "# Get Link Details\n",
    "\n",
    "For a given topic URL, get the HTML for the topic and then use Beautiful Soup to get the console link and console link text."
   ]
  },
  {
   "cell_type": "code",
   "execution_count": null,
   "metadata": {
    "id": "KPTnyZx9tb59"
   },
   "outputs": [],
   "source": [
    "# get the link details from HTML using Beautiful Soup\n",
    "def get_link_details(topic_URL):\n",
    "  dict_list = []\n",
    "  # get the HTML for the doc topic\n",
    "  logger.debug(\"BSLINK HTML about to ingest \")\n",
    "  # exception handling around code that can cause issues in long runs\n",
    "  try:\n",
    "    topic_content = get_html_content(topic_URL)\n",
    "  except Exception as e:\n",
    "    if show_exceptions:\n",
    "      raise\n",
    "    else:\n",
    "      topic_content = placeholder_html\n",
    "      logger.debug(\"error with URL \",row[\"URL\"])\n",
    "      logger.debug(\"ERROR is \",e)\n",
    "  # create soap object\n",
    "\n",
    "  full_url = \"https://\"+topic_URL\n",
    "  soup = bs4.BeautifulSoup(str(topic_content), 'html.parser')\n",
    "\n",
    "\n",
    "  # find all the anchor tags with \"href\"\n",
    "  # attribute starting with \"https://console\"\n",
    "  for link in soup.find_all('a'):\n",
    "      new_dict = {}\n",
    "      new_dict[\"console_link\"] = link.get('href')\n",
    "      new_dict[\"console_link_text\"] = link.text\n",
    "      logger.debug(\"dict is \",new_dict)\n",
    "      dict_list.append(new_dict)\n",
    "\n",
    "  return dict_list"
   ]
  },
  {
   "cell_type": "markdown",
   "metadata": {
    "id": "eJpHbv8P9tYn"
   },
   "source": [
    "# Model call function\n",
    "\n",
    "`compare_link_with_screencap` function invokes the model to determine whether the link destinations contain text that matches the link text and whether there is an error at the destination."
   ]
  },
  {
   "cell_type": "code",
   "execution_count": null,
   "metadata": {
    "id": "rks32An_CgPG"
   },
   "outputs": [],
   "source": [
    "# use model to compare link details with contents of screencap of destintation\n",
    "async def compare_link_with_screencap(dict,agent):\n",
    "  # get the screencap associated with the console link\n",
    "  logger.debug(\"SCREENCAP CONSOLE LINK COMPARE dict is \",dict)\n",
    "  try:\n",
    "    await agent.get(dict[\"console_link\"])\n",
    "  except Exception as e:\n",
    "    if show_exceptions:\n",
    "      raise\n",
    "    else:\n",
    "      print(\"error with URL \",row[\"URL\"])\n",
    "      print(\"ERROR is \",e)\n",
    "      asyncio.run(agent.get(placeholder_console_link))\n",
    "      print(\"GOT PLACEHOLDER CONSOLE LINK\")\n",
    "  prompt2 = f\"\"\"\n",
    "    You are an expert at determining whether a text appears in a UI screenshot image.\n",
    "\n",
    "    Given the console link text, the error message text, and the UI screenshot image, determine:\n",
    "    1. Does the console link text roughly match the image title?\n",
    "    2. Does the error message appear somewhere in the image?\n",
    "\n",
    "    The image title could be text at the top of the image or it could be text in the navigation pane at the left of the image.\n",
    "\n",
    "    The error message text could appear anywhere in the image.\n",
    "\n",
    "    Your answers should have the following format. The answers should be valid Python dictionaries with keys as shown and double quotes around values that you fill in.\n",
    "    ```\n",
    "    {{\"image_title\": title in the image,\"title_match\": YES or NO,\"message_text\": YES or NO}}\n",
    "    ```\n",
    "    Here are the console link text and error message text:\n",
    "    {dict[\"console_link_text\"]} and {message_text}\n",
    "  \"\"\"\n",
    "  logger.debug(\"ABOUT TO SECOND PREDICT with dict is \",dict)\n",
    "  try:\n",
    "    prediction = genai_client.predict_visual(prompt2, agent.image1)\n",
    "    logger.debug(\"SCREENCAP CONSOLE LINK PREDICTION is \",prediction)\n",
    "    dict_string = remove_prefix(prediction, \"{\")\n",
    "    dict_string = remove_suffix(dict_string, \"}\")\n",
    "    sub_dict = eval(replace_null(dict_string))\n",
    "    new_dict = {**dict, **sub_dict}\n",
    "    new_dict[\"screenshot\"] =  str(agent.filename)\n",
    "  except Exception as e:\n",
    "    if show_exceptions:\n",
    "      raise\n",
    "    else:\n",
    "      new_dict = placeholder_dict\n",
    "      logger.debug(\"error with URL \",row[\"URL\"])\n",
    "      logger.debug(\"ERROR is \",e)\n",
    "  if new_dict[\"image_title\"] == \"null\":\n",
    "    new_dict[\"image_title\"] = \"PLACEHOLDER\"\n",
    "  return new_dict\n",
    "\n",
    "\n"
   ]
  },
  {
   "cell_type": "markdown",
   "metadata": {
    "id": "zVQtj-XTuWye"
   },
   "source": [
    "## Create human readable report\n",
    "\n",
    "The direct output of the model is hard for a human to parse, so create a separate dataframe that parses the results for each link in a human-readable form."
   ]
  },
  {
   "cell_type": "code",
   "execution_count": null,
   "metadata": {
    "id": "ZQ2O4sInQAjU"
   },
   "outputs": [],
   "source": [
    "# function to remove internal \"{\" and \"}\"\n",
    "def remove_internal_chars(text,char_list):\n",
    "  logger.debug(\"REMOVE INTERNAL CHARS text is \",text)\n",
    "  # remove in initial \"{\"\n",
    "  intermed_text = text[1:]\n",
    "  # remove final \"}\"\n",
    "  intermed_text = intermed_text[:-1]\n",
    "  # remove internal\n",
    "  for char in char_list:\n",
    "    intermed_text = intermed_text.replace(char,'')\n",
    "  # add back\n",
    "  intermed_text = \"{\" + intermed_text + \"}\"\n",
    "  logger.debug(\"REMOVE INTERNAL CHARS intermed_text2 is \",intermed_text)\n",
    "  return intermed_text"
   ]
  },
  {
   "cell_type": "code",
   "execution_count": null,
   "metadata": {
    "id": "lZkfVHjzlpxT"
   },
   "outputs": [],
   "source": [
    "# parse results into human-readable form\n",
    "def create_human_readable_df(df):\n",
    "  # iterate through the rows of the original df\n",
    "  human_df = df.explode(['result'],ignore_index=True)\n",
    "  for index, row in human_df.iterrows():\n",
    "    for key in row['result']:\n",
    "      human_df.at[index,key] = row['result'][key]\n",
    "  return human_df"
   ]
  },
  {
   "cell_type": "markdown",
   "metadata": {
    "id": "whh4J1ioALaF"
   },
   "source": [
    "# Remove Extraneous Content from Output\n",
    "\n",
    "Remove the extraneous columns and rows from the dataframe to prepare for output in a human-readable form."
   ]
  },
  {
   "cell_type": "code",
   "execution_count": null,
   "metadata": {
    "id": "FcVdPyh3vt4x"
   },
   "outputs": [],
   "source": [
    "\n",
    "def remove_extraneous_df_content(human_df):\n",
    "  # remove extraneous columns\n",
    "  human_df.drop(columns=['result'],inplace=True)\n",
    "  return human_df\n"
   ]
  },
  {
   "cell_type": "markdown",
   "metadata": {
    "id": "FbmM284dBDvz"
   },
   "source": [
    "# Save Dataframes to persistent storage\n",
    "\n",
    "Save raw DF to a CSV file. Prepare human-readable dataframe and save it to a CSV file.\n"
   ]
  },
  {
   "cell_type": "code",
   "execution_count": null,
   "metadata": {
    "id": "xamEzp_2ln8Y"
   },
   "outputs": [],
   "source": [
    "# output the human readable dataframe to a CSV in the local file system\n",
    "def output_human_readable_df(df,timestamp):\n",
    "  human_df = create_human_readable_df(df)\n",
    "  human_df = remove_extraneous_df_content(human_df)\n",
    "  # save to the selected output location\n",
    "  filename = os.path.join(sandbox_path,\"human_readable_\"+f'output_{timestamp}.csv')\n",
    "  human_df.to_csv(filename, sep=',', index=False)\n",
    "  return human_df\n"
   ]
  },
  {
   "cell_type": "code",
   "execution_count": null,
   "metadata": {
    "id": "KElmJ_EQT86u"
   },
   "outputs": [],
   "source": [
    "def output_raw_df(df,timestamp):\n",
    "  print(df.head())\n"
   ]
  },
  {
   "cell_type": "code",
   "execution_count": null,
   "metadata": {
    "id": "aXob2fF6bE-2"
   },
   "outputs": [],
   "source": [
    "# complete partial links\n",
    "# for links that aren't already fully-qualified, add prefix to make them fully qualified\n",
    "def cleanup_link(source_url,link):\n",
    "  if link.startswith(\"https://\"):\n",
    "    return link\n",
    "  elif link.startswith(\"#\"):\n",
    "      return source_url+link\n",
    "  elif link.startswith(\"/\"):\n",
    "      return \"https://cloud.google.com\"+link\n",
    "  else:\n",
    "    return \"LINK ERROR\""
   ]
  },
  {
   "cell_type": "markdown",
   "metadata": {
    "id": "BLZPNTBClAQJ"
   },
   "source": [
    "## Main model calls\n",
    "\n",
    "Main iteration through the list of input URLs:\n",
    "\n",
    "* For each URL in the input dataset, call `get_link_details` to get the list of links and associated link text for all the links in the topic\n",
    "* For each link and associated link text, call `compare_link_with_screencap` to compare the link details with the destination using Gemini and Playwright"
   ]
  },
  {
   "cell_type": "code",
   "execution_count": null,
   "metadata": {
    "id": "AJA3uUXX_VMB"
   },
   "outputs": [],
   "source": [
    "%%time\n",
    "# iterate through df with one doc topic URL at a time\n",
    "async def main():\n",
    "  print(\"IN MAIN\")\n",
    "  for index, row in df.iterrows():\n",
    "      print(\"MAIN NEW ROW - URL is : \",row[\"URL\"] )\n",
    "      logger.debug(\"MAIN NEW ROW - URL is : \",row[\"URL\"] )\n",
    "      new_dict_list = []\n",
    "      # get the details for the current doc topic\n",
    "      dict_list = get_link_details(row[\"URL\"])\n",
    "      logger.debug(\"MAIN dict_list is \",dict_list)\n",
    "      # for every console link in the doc topic, compare the doc topic console link details with the target in the console\n",
    "      for dict in dict_list:\n",
    "        new_dict = {}\n",
    "        sub_dict = {}\n",
    "        # for each console link for this URL, compare\n",
    "        logger.debug(\"MAIN comparing image for console link: \",dict[\"console_link\"])\n",
    "        logger.debug(\"MAIN for console link text: \",dict[\"console_link_text\"])\n",
    "        # check to the link is valid for analysis\n",
    "        dict[\"console_link\"] = cleanup_link(row[\"URL\"],dict[\"console_link\"])\n",
    "        if dict[\"console_link\"].startswith(link_prefix):\n",
    "          logger.debug(\"analyzing link: \",dict[\"console_link\"])\n",
    "          new_dict = await compare_link_with_screencap(dict,agent)\n",
    "          new_dict_list.append(new_dict)\n",
    "        else:\n",
    "          logger.debug(\"MAIN SKIPPING CONSOLE LINK\")\n",
    "      # if list of dicts is not empty, save it in the df. If it is empty, save placeholder\n",
    "      if len(new_dict_list) > 0:\n",
    "        logger.debug(\"MAIN WRITING DF ROW\",new_dict_list)\n",
    "        df.at[index,'result'] = new_dict_list\n",
    "      else:\n",
    "        logger.debug(\"WRITING DEFAULT DF ROW\")\n",
    "        df.at[index,'result'] = placeholder_dict_list\n",
    "      timestamp = time.time()\n",
    "  timestamp = time.time()\n",
    "  delta = timestamp - initial_timestamp\n",
    "  logger.debug(\"completed analysis\")\n",
    "  print(\"completed analysis\")\n",
    "  output_raw_df(df,timestamp)\n"
   ]
  },
  {
   "cell_type": "code",
   "execution_count": null,
   "metadata": {
    "id": "IKY_V2bqEvmL"
   },
   "outputs": [],
   "source": [
    "\n",
    "await main()"
   ]
  },
  {
   "cell_type": "code",
   "execution_count": null,
   "metadata": {
    "id": "XeoK9ANXpPGk"
   },
   "outputs": [],
   "source": [
    "df.head()"
   ]
  },
  {
   "cell_type": "code",
   "execution_count": null,
   "metadata": {
    "id": "ioy50U9ncugD"
   },
   "outputs": [],
   "source": [
    "# create human-readable form of output\n",
    "timestamp = time.time()\n",
    "human_readable_df = output_human_readable_df(df,timestamp)"
   ]
  },
  {
   "cell_type": "code",
   "execution_count": null,
   "metadata": {
    "id": "tBh2AkkAsDaP"
   },
   "outputs": [],
   "source": [
    "human_readable_df.head()"
   ]
  },
  {
   "cell_type": "markdown",
   "metadata": {
    "id": "wYLavzY-FP9i"
   },
   "source": [
    "# Display the Validation Results\n",
    "\n",
    "To make it easier to examine the results of the validation, the following cells generate a tabular output of the validation results where you can click on the link and screencaps to examine the differences. The output dataframe is filtered to just contain the links where the analysis noted an issue:\n",
    "\n",
    "* **title match == NO** indicating that the link text does not match prominent text in the destination\n",
    "* **error message == YES** indicating that there is some kind of error message at the destination"
   ]
  },
  {
   "cell_type": "code",
   "execution_count": null,
   "metadata": {
    "id": "zusKyADgQQBS"
   },
   "outputs": [],
   "source": [
    "\n",
    "\n",
    "\n",
    "# show image from path\n",
    "def show_image_popup(image_path_or_url):\n",
    "    \"\"\"Displays an image in a new browser window or tab.\"\"\"\n",
    "\n",
    "    # If it's a local file path, convert it to a data URL for embedding\n",
    "    if not image_path_or_url.startswith(\"http\"):\n",
    "        with open(image_path_or_url, \"rb\") as f:\n",
    "            image_data = f.read()\n",
    "        image_base64 = base64.b64encode(image_data).decode(\"utf-8\")\n",
    "        image_src = f\"data:image/jpeg;base64,{image_base64}\"\n",
    "    else:\n",
    "        image_src = image_path_or_url\n",
    "\n",
    "    # Create the HTML for the popup window\n",
    "    popup_html = f\"\"\"\n",
    "    <html>\n",
    "    <head></head>\n",
    "    <body>\n",
    "        <img src=\"{image_src}\" alt=\"Image\">\n",
    "    </body>\n",
    "    </html>\n",
    "    \"\"\"\n",
    "\n",
    "    # Open the popup using JavaScript\n",
    "    display(HTML(f\"\"\"\n",
    "    <script>\n",
    "    var win = window.open('', '_blank');\n",
    "    win.document.write(`{popup_html}`);\n",
    "    </script>\n",
    "    \"\"\"))\n",
    "\n",
    "\n"
   ]
  },
  {
   "cell_type": "code",
   "execution_count": null,
   "metadata": {
    "id": "SrPprTBQJm2B"
   },
   "outputs": [],
   "source": [
    "# filter df to just have the potential problems\n",
    "problem_df = human_readable_df.copy()\n",
    "problem_df = problem_df[(problem_df['title_match'] == 'NO') | (problem_df['message_text'] == 'YES')]"
   ]
  },
  {
   "cell_type": "code",
   "execution_count": null,
   "metadata": {
    "id": "LNfI3g8SKA0J"
   },
   "outputs": [],
   "source": [
    "problem_df.head()"
   ]
  },
  {
   "cell_type": "code",
   "execution_count": null,
   "metadata": {
    "id": "w6EJ_fer4_FY"
   },
   "outputs": [],
   "source": [
    "# Show the results of the link validation in a clickable format\n",
    "from IPython.display import display, HTML, Image\n",
    "\n",
    "# display results in interactive way\n",
    "def create_row_widget(row):\n",
    "  topic_widget = widgets.HTML(value=f'<a href=\"{\"https://\"+row[\"URL\"]}\" target=\"_blank\">{row[\"URL\"]}</a>')\n",
    "  url_widget = widgets.HTML(value=f'<a href=\"{row[\"console_link\"]}\" target=\"_blank\">{row[\"console_link\"]}</a>')\n",
    "  link_text_widget = widgets.HTML(value=f'{row[\"console_link_text\"]}')\n",
    "  title_match_widget = widgets.HTML(value=f'{row[\"title_match\"]}')\n",
    "  message_text_widget = widgets.HTML(value=f'{row[\"message_text\"]}')\n",
    "  image_button = widgets.Button(description= os.path.basename(row['screenshot']))\n",
    "  # os.path.basename(your_path)\n",
    "\n",
    "  def on_button_click(b):\n",
    "    #show_image_popup(b.description)\n",
    "    show_image_popup(row['screenshot'])\n",
    "\n",
    "  image_button.on_click(on_button_click)\n",
    "  return topic_widget, url_widget, link_text_widget, title_match_widget, message_text_widget, image_button\n",
    "\n",
    "def display_interactive_table(df):\n",
    "  header_topic = widgets.Label(value=\"topic URL\")\n",
    "  header_url = widgets.Label(value=\"link\")\n",
    "  header_link_text = widgets.Label(value=\"link text\")\n",
    "  header_title_match = widgets.Label(value=\"title match?\")\n",
    "  header_message_text = widgets.Label(value=\"error message?\")\n",
    "  header_image = widgets.Label(value=\"screenshot\")\n",
    "\n",
    "  grid = widgets.GridBox(\n",
    "      children=[header_topic, header_url, header_link_text, header_title_match, header_message_text, header_image],\n",
    "      layout=widgets.Layout(grid_template_columns=\"repeat(6, 1fr)\",grid_gap=\"8px\")\n",
    "  )\n",
    "  for _, row in df.iterrows():\n",
    "    topic_widget, url_widget, link_text_widget, title_match_widget, message_text_widget, image_button = create_row_widget(row)\n",
    "    grid.children += (topic_widget, url_widget, link_text_widget, title_match_widget, message_text_widget, image_button)\n",
    "  display(grid)\n",
    "\n",
    "\n",
    "display_interactive_table(problem_df)"
   ]
  }
 ],
 "metadata": {
  "colab": {
   "private_outputs": true,
   "provenance": []
  },
  "kernelspec": {
   "display_name": "Python 3 (ipykernel)",
   "language": "python",
   "name": "python3"
  },
  "language_info": {
   "codemirror_mode": {
    "name": "ipython",
    "version": 3
   },
   "file_extension": ".py",
   "mimetype": "text/x-python",
   "name": "python",
   "nbconvert_exporter": "python",
   "pygments_lexer": "ipython3",
   "version": "3.11.9"
  }
 },
 "nbformat": 4,
 "nbformat_minor": 0
}
